{
 "cells": [
  {
   "cell_type": "code",
   "execution_count": 1,
   "metadata": {
    "collapsed": true
   },
   "outputs": [],
   "source": [
    "from Simulator import Simulator\n",
    "import numpy as np\n",
    "from scipy import misc \n",
    "import matplotlib.pyplot as plt\n",
    "%matplotlib inline"
   ]
  },
  {
   "cell_type": "code",
   "execution_count": 31,
   "metadata": {},
   "outputs": [
    {
     "name": "stdout",
     "output_type": "stream",
     "text": [
      "Simulation took 15.040455102920532 seconds.\n",
      "Simulation took 9.615397214889526 seconds.\n",
      "Simulation took 5.785449504852295 seconds.\n",
      "Simulation took 3.0941545963287354 seconds.\n",
      "Simulation took 1.795339822769165 seconds.\n",
      "9375\n"
     ]
    },
    {
     "data": {
      "image/png": "[encoded data removed]",
      "text/plain": [
       "<matplotlib.figure.Figure at 0x7f543a3f8748>"
      ]
     },
     "metadata": {},
     "output_type": "display_data"
    }
   ],
   "source": [
    "from Simulator import Simulator\n",
    "import numpy as np\n",
    "from scipy import misc \n",
    "import matplotlib.pyplot as plt\n",
    "\n",
    "A = misc.imread('Terrain.png')[200:400,200:400].T\n",
    "A = A/np.max(A)\n",
    "A = np.zeros((50,50))\n",
    "nx=A.shape[0];ny=A.shape[0];nt=100000;                         # Fundamental simulation parameters\n",
    "T = np.zeros((nx,ny))                                    # Initialize T field\n",
    "#T[int(nx/2):int(nx/2+2),int(ny/2):int(ny/2+3)] = 1000      # Increase temperature in the middle of the grid\n",
    "T[nx//2, ny//2] = 1000\n",
    "F = np.random.normal(loc=500, scale=0, size=(nx,ny))\n",
    "F = np.maximum(F, 0)\n",
    "\n",
    "# sim = Simulator(nx,ny,nt,T=T,A=A,F=F,dt=1,\n",
    "#                 Tcrit=150,\n",
    "#                 burningRate=0.005,\n",
    "#                 heatContent=5,\n",
    "#                 planarDiffusivity=0.005,\n",
    "#                 atmosphericDiffusivity=0.004,\n",
    "#                 slopeContribution=1)        # Initialize fields and parameters\n",
    "# sim.Run(animStep=20)                                   # Perform the simulation\n",
    "# sim.Show()                                  # Visualize the results\n",
    "\n",
    "resolution = 5\n",
    "vivos = []\n",
    "resultados = np.zeros(resolution)\n",
    "alphas = np.logspace(-2, -1, resolution)\n",
    "for i, alpha in enumerate(alphas):\n",
    "    sim = Simulator(nx,ny,nt,T=T.copy(),A=A.copy(),F=F.copy(),dt=0.001,\n",
    "                    Tcrit=100,\n",
    "                    burningRate=0.02,\n",
    "                    heatContent=90,\n",
    "                    planarDiffusivity=alpha,\n",
    "                    atmosphericDiffusivity=0.004,\n",
    "                    slopeContribution=1)        # Initialize fields and parameters\n",
    "    sim.Run(animStep=0)                                   # Perform the simulation\n",
    "\n",
    "    resultados[i] = sim.Metrics()['elapsedTime']\n",
    "    vivos.append(sim.Metrics()['burning'])\n",
    "    \n",
    "print(sim.Metrics()['elapsedTime'])\n",
    "\n",
    "plt.plot(alphas, resultados, '-o')\n",
    "plt.yscale('log')\n",
    "plt.xscale('log')\n",
    "plt.show()"
   ]
  },
  {
   "cell_type": "code",
   "execution_count": 32,
   "metadata": {},
   "outputs": [
    {
     "data": {
      "image/png": "[encoded data removed]",
      "text/plain": [
       "<matplotlib.figure.Figure at 0x7f543a38dbe0>"
      ]
     },
     "metadata": {},
     "output_type": "display_data"
    }
   ],
   "source": [
    "plt.plot(alphas, resultados, '-o')\n",
    "plt.yscale('log')\n",
    "plt.xscale('log')\n",
    "plt.show()"
   ]
  },
  {
   "cell_type": "code",
   "execution_count": 21,
   "metadata": {
    "collapsed": true
   },
   "outputs": [],
   "source": [
    "from scipy.optimize import curve_fit"
   ]
  },
  {
   "cell_type": "code",
   "execution_count": 33,
   "metadata": {},
   "outputs": [
    {
     "data": {
      "image/png": "[encoded data removed]",
      "text/plain": [
       "<matplotlib.figure.Figure at 0x7f543a3c2fd0>"
      ]
     },
     "metadata": {},
     "output_type": "display_data"
    },
    {
     "name": "stdout",
     "output_type": "stream",
     "text": [
      "[  1.30050356e+03   8.88972636e-01]\n"
     ]
    }
   ],
   "source": [
    "def power_law(x, a, b):\n",
    "    return a * x ** -b\n",
    "\n",
    "args, _ = curve_fit(power_law, alphas, resultados, p0=(10**3,1))\n",
    "\n",
    "plt.plot(alphas, power_law(alphas, *args), c='r')\n",
    "plt.scatter(alphas, resultados)\n",
    "plt.xscale('log')\n",
    "plt.yscale('log')\n",
    "plt.show()\n",
    "\n",
    "print(args)"
   ]
  },
  {
   "cell_type": "code",
   "execution_count": 40,
   "metadata": {},
   "outputs": [
    {
     "name": "stdout",
     "output_type": "stream",
     "text": [
      "Simulation took 5.848123788833618 seconds.\n",
      "Simulation took 6.094821929931641 seconds.\n",
      "Simulation took 6.304436445236206 seconds.\n",
      "Simulation took 6.081684350967407 seconds.\n",
      "Simulation took 5.316620588302612 seconds.\n",
      "9998\n"
     ]
    },
    {
     "data": {
      "image/png": "[encoded data removed]",
      "text/plain": [
       "<matplotlib.figure.Figure at 0x7f54414ea2b0>"
      ]
     },
     "metadata": {},
     "output_type": "display_data"
    }
   ],
   "source": [
    "A = misc.imread('Terrain.png')[200:400,200:400].T\n",
    "A = A/np.max(A)\n",
    "A = np.zeros((50,50))\n",
    "nx=A.shape[0];ny=A.shape[0];nt=100000;                         # Fundamental simulation parameters\n",
    "T = np.zeros((nx,ny))                                    # Initialize T field\n",
    "#T[int(nx/2):int(nx/2+2),int(ny/2):int(ny/2+3)] = 1000      # Increase temperature in the middle of the grid\n",
    "T[nx//2, ny//2] = 1000\n",
    "F = np.random.normal(loc=500, scale=0, size=(nx,ny))\n",
    "F = np.maximum(F, 0)\n",
    "\n",
    "resolution = 5\n",
    "vivos2 = []\n",
    "resultados2 = np.zeros(resolution)\n",
    "alphas = np.logspace(-8, -3, resolution)\n",
    "for i, alpha in enumerate(alphas):\n",
    "    sim = Simulator(nx,ny,nt,T=T.copy(),A=A.copy(),F=F.copy(),dt=0.001,\n",
    "                    Tcrit=100,\n",
    "                    burningRate=0.02,\n",
    "                    heatContent=90,\n",
    "                    planarDiffusivity=alpha,\n",
    "                    atmosphericDiffusivity=0.004,\n",
    "                    slopeContribution=1)        # Initialize fields and parameters\n",
    "    sim.Run(animStep=0)                                   # Perform the simulation\n",
    "\n",
    "    resultados2[i] = sim.Metrics()['elapsedTime']\n",
    "    vivos2.append(sim.Metrics()['burning'])\n",
    "    \n",
    "print(sim.Metrics()['elapsedTime'])\n",
    "\n",
    "plt.plot(alphas, resultados2, '-o')\n",
    "plt.yscale('log')\n",
    "plt.xscale('log')\n",
    "plt.show()"
   ]
  },
  {
   "cell_type": "code",
   "execution_count": 30,
   "metadata": {},
   "outputs": [
    {
     "data": {
      "image/png": "[encoded data removed]",
      "text/plain": [
       "<matplotlib.figure.Figure at 0x7f543d9931d0>"
      ]
     },
     "metadata": {},
     "output_type": "display_data"
    }
   ],
   "source": [
    "plt.plot(alphas, resultados2, '-o')\n",
    "plt.yscale('log')\n",
    "plt.xscale('log')\n",
    "plt.show()"
   ]
  }
 ],
 "metadata": {
  "kernelspec": {
   "display_name": "Python 3",
   "language": "python",
   "name": "python3"
  },
  "language_info": {
   "codemirror_mode": {
    "name": "ipython",
    "version": 3
   },
   "file_extension": ".py",
   "mimetype": "text/x-python",
   "name": "python",
   "nbconvert_exporter": "python",
   "pygments_lexer": "ipython3",
   "version": "3.5.2"
  }
 },
 "nbformat": 4,
 "nbformat_minor": 2
}
